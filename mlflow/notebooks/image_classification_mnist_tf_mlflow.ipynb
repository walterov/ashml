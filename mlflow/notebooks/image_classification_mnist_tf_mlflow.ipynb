{
 "cells": [
  {
   "cell_type": "markdown",
   "id": "everyday-partition",
   "metadata": {},
   "source": [
    "# Train mnist with Tensorflow Keras and log with MLflow"
   ]
  },
  {
   "cell_type": "markdown",
   "id": "corrected-member",
   "metadata": {},
   "source": [
    "## Prerequisites:\n",
    "\n",
    "You may create a new conda virtual enviroment using  JupyterHub's conda tab.\n",
    "\n",
    "You need to install the following python packages in this virtual environment\n",
    "\n",
    "1.  Python 3.9.2, \n",
    "2.  Tensorflow 2.4.1\n",
    "3.  tensorflow_datasets 1.2.0\n",
    "\n",
    "Make sure your kernel is properly selected to use the virtual environment you created."
   ]
  },
  {
   "cell_type": "code",
   "execution_count": null,
   "id": "prostate-nashville",
   "metadata": {},
   "outputs": [],
   "source": [
    "#\n",
    "# if you do not have mlflow, you may uncomment the below line, and run the cell.  Restart your kernel after installation.\n",
    "\n",
    "#%pip install mlflow==1.15.0"
   ]
  },
  {
   "cell_type": "code",
   "execution_count": null,
   "id": "trained-reaction",
   "metadata": {},
   "outputs": [],
   "source": [
    "import tensorflow as tf\n",
    "import tensorflow_datasets as tfds\n",
    "import mlflow\n",
    "import mlflow.keras\n",
    "import os\n",
    "print(tf.__version__)\n",
    "\n",
    "import platform\n",
    "print(platform.python_version())"
   ]
  },
  {
   "cell_type": "code",
   "execution_count": null,
   "id": "typical-township",
   "metadata": {},
   "outputs": [],
   "source": [
    "(ds_train, ds_test), ds_info = tfds.load(\n",
    "    'mnist',\n",
    "    split=['train', 'test'],\n",
    "    shuffle_files=True,\n",
    "    as_supervised=True,\n",
    "    with_info=True,\n",
    ")"
   ]
  },
  {
   "cell_type": "code",
   "execution_count": null,
   "id": "impressed-intelligence",
   "metadata": {},
   "outputs": [],
   "source": [
    "def normalize_img(image, label):\n",
    "  \"\"\"Normalizes images: `uint8` -> `float32`.\"\"\"\n",
    "  return tf.cast(image, tf.float32) / 255., label\n",
    "\n",
    "ds_train = ds_train.map(\n",
    "    normalize_img, num_parallel_calls=tf.data.experimental.AUTOTUNE)\n",
    "ds_train = ds_train.cache()\n",
    "ds_train = ds_train.shuffle(ds_info.splits['train'].num_examples)\n",
    "ds_train = ds_train.batch(128)\n",
    "ds_train = ds_train.prefetch(tf.data.experimental.AUTOTUNE)"
   ]
  },
  {
   "cell_type": "code",
   "execution_count": null,
   "id": "gorgeous-bridal",
   "metadata": {},
   "outputs": [],
   "source": [
    "ds_test = ds_test.map(\n",
    "    normalize_img, num_parallel_calls=tf.data.experimental.AUTOTUNE)\n",
    "ds_test = ds_test.batch(128)\n",
    "ds_test = ds_test.cache()\n",
    "ds_test = ds_test.prefetch(tf.data.experimental.AUTOTUNE)"
   ]
  },
  {
   "cell_type": "markdown",
   "id": "abstract-lawsuit",
   "metadata": {},
   "source": [
    "## Step 2: Create and train the model\n",
    "\n",
    "Plug the input pipeline into Keras."
   ]
  },
  {
   "cell_type": "code",
   "execution_count": null,
   "id": "accredited-introduction",
   "metadata": {},
   "outputs": [],
   "source": [
    "mlflow.set_tracking_uri(\"http://127.0.0.1:5000\")\n",
    "\n",
    "os.environ[\"AZURE_STORAGE_CONNECTION_STRING\"] =\"DefaultEndpointsProtocol=https;AccountName=ashstore;AccountKey=yPI37wCjwFAdPeLdtTb/1re9dCZGsNMHxkhuLf0NT7KS1DELdzqnGkbQxmgxQbA1S1scaA+Yyz2Af0deDtkTEQ==;EndpointSuffix=orlando.azurestack.corp.microsoft.com\"\n",
    "\n",
    "##\"DefaultEndpointsProtocol=https;AccountName=backupsli;AccountKey=XEB0k7Fh6+keWrNbSpWlvTZnGvQaCARHE2I+U2qQb71DQs1xmGQ3we/8worVyeFpE38vLLx6QrnzOGPHrcFGgQ==;EndpointSuffix=core.windows.net\"\n",
    "\n",
    "mlflow.set_experiment(\"mnist_ash1\")\n",
    "with mlflow.start_run(run_name=\"mnist-run-ex\") as run:\n",
    "    model = tf.keras.models.Sequential([\n",
    "        tf.keras.layers.Flatten(input_shape=(28, 28)),\n",
    "        tf.keras.layers.Dense(128,activation='relu'),\n",
    "        tf.keras.layers.Dense(10)\n",
    "     ])\n",
    "    model.compile(\n",
    "        optimizer=tf.keras.optimizers.Adam(0.001),\n",
    "        loss=tf.keras.losses.SparseCategoricalCrossentropy(from_logits=True),\n",
    "        metrics=[tf.keras.metrics.SparseCategoricalAccuracy()],\n",
    "    )\n",
    "\n",
    "    params = {\"lr\": 0.001}\n",
    "    mlflow.log_params(params)\n",
    "    mlflow.log_param(\"param_1\",\"1\")\n",
    "    \n",
    "    model.fit(\n",
    "        ds_train,\n",
    "        epochs=6,\n",
    "        validation_data=ds_test,\n",
    "    )\n",
    "    \n",
    "    mlflow.keras.log_model(\n",
    "        keras_model=model,\n",
    "        artifact_path=\"mnist-model\",\n",
    "        conda_env = \"conda.yaml\",\n",
    "        registered_model_name=\"mnist-model2\"\n",
    "    )\n",
    "    \n",
    "    \n",
    "    "
   ]
  },
  {
   "cell_type": "code",
   "execution_count": null,
   "id": "nutritional-compound",
   "metadata": {},
   "outputs": [],
   "source": []
  }
 ],
 "metadata": {
  "kernelspec": {
   "display_name": "sl_tf",
   "language": "python",
   "name": "conda-env-sl_tf-py"
  },
  "language_info": {
   "codemirror_mode": {
    "name": "ipython",
    "version": 3
   },
   "file_extension": ".py",
   "mimetype": "text/x-python",
   "name": "python",
   "nbconvert_exporter": "python",
   "pygments_lexer": "ipython3",
   "version": "3.9.2"
  }
 },
 "nbformat": 4,
 "nbformat_minor": 5
}

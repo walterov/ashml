{
 "cells": [
  {
   "cell_type": "markdown",
   "id": "accessible-gilbert",
   "metadata": {},
   "source": [
    "# Train mnist with Tensorflow Keras and save with MLflow"
   ]
  },
  {
   "cell_type": "markdown",
   "id": "short-equivalent",
   "metadata": {},
   "source": [
    "## Prerequisites:\n",
    "\n",
    "You may create a new conda virtual enviroment using  JupyterHub's conda tab.\n",
    "\n",
    "You need to install the following python packages in this virtual environment\n",
    "\n",
    "1.  Python 3.9.2, \n",
    "2.  Tensorflow 2.4.1\n",
    "3.  tensorflow_datasets 1.2.0\n",
    "\n",
    "Make sure your kernel is properly selected to use the virtual environment you created.\n"
   ]
  },
  {
   "cell_type": "code",
   "execution_count": null,
   "id": "legal-factory",
   "metadata": {},
   "outputs": [],
   "source": [
    "#\n",
    "# if you do not have mlflow, you may uncomment the below line, and run the cell.  Restart your kernel after installation.\n",
    "\n",
    "#%pip install mlflow==1.15.0"
   ]
  },
  {
   "cell_type": "code",
   "execution_count": null,
   "id": "domestic-lobby",
   "metadata": {},
   "outputs": [],
   "source": [
    "import tensorflow as tf\n",
    "import tensorflow_datasets as tfds\n",
    "import mlflow\n",
    "import mlflow.keras\n",
    "print(tf.__version__)\n",
    "\n",
    "import platform\n",
    "print(platform.python_version())"
   ]
  },
  {
   "cell_type": "code",
   "execution_count": null,
   "id": "registered-collectible",
   "metadata": {},
   "outputs": [],
   "source": [
    "(ds_train, ds_test), ds_info = tfds.load(\n",
    "    'mnist',\n",
    "    split=['train', 'test'],\n",
    "    shuffle_files=True,\n",
    "    as_supervised=True,\n",
    "    with_info=True,\n",
    ")"
   ]
  },
  {
   "cell_type": "code",
   "execution_count": null,
   "id": "hearing-spank",
   "metadata": {},
   "outputs": [],
   "source": [
    "def normalize_img(image, label):\n",
    "  \"\"\"Normalizes images: `uint8` -> `float32`.\"\"\"\n",
    "  return tf.cast(image, tf.float32) / 255., label\n",
    "\n",
    "ds_train = ds_train.map(\n",
    "    normalize_img, num_parallel_calls=tf.data.experimental.AUTOTUNE)\n",
    "ds_train = ds_train.cache()\n",
    "ds_train = ds_train.shuffle(ds_info.splits['train'].num_examples)\n",
    "ds_train = ds_train.batch(128)\n",
    "ds_train = ds_train.prefetch(tf.data.experimental.AUTOTUNE)"
   ]
  },
  {
   "cell_type": "code",
   "execution_count": null,
   "id": "forward-horse",
   "metadata": {},
   "outputs": [],
   "source": [
    "ds_test = ds_test.map(\n",
    "    normalize_img, num_parallel_calls=tf.data.experimental.AUTOTUNE)\n",
    "ds_test = ds_test.batch(128)\n",
    "ds_test = ds_test.cache()\n",
    "ds_test = ds_test.prefetch(tf.data.experimental.AUTOTUNE)"
   ]
  },
  {
   "cell_type": "markdown",
   "id": "thirty-velvet",
   "metadata": {},
   "source": [
    "## Step 2: Create and train the model\n",
    "\n",
    "Plug the input pipeline into Keras."
   ]
  },
  {
   "cell_type": "code",
   "execution_count": null,
   "id": "perceived-entrance",
   "metadata": {},
   "outputs": [],
   "source": [
    "model = tf.keras.models.Sequential([\n",
    "        tf.keras.layers.Flatten(input_shape=(28, 28)),\n",
    "        tf.keras.layers.Dense(128,activation='relu'),\n",
    "        tf.keras.layers.Dense(10)\n",
    "     ])\n",
    "model.compile(\n",
    "        optimizer=tf.keras.optimizers.Adam(0.001),\n",
    "        loss=tf.keras.losses.SparseCategoricalCrossentropy(from_logits=True),\n",
    "        metrics=[tf.keras.metrics.SparseCategoricalAccuracy()],\n",
    "    )\n",
    "\n",
    "params = {\"lr\": 0.001}\n",
    "    \n",
    "model.fit(\n",
    "        ds_train,\n",
    "        epochs=6,\n",
    "        validation_data=ds_test,\n",
    "    )\n",
    "    \n",
    "    \n",
    "    "
   ]
  },
  {
   "cell_type": "code",
   "execution_count": null,
   "id": "fuzzy-messenger",
   "metadata": {},
   "outputs": [],
   "source": [
    "mlflow.keras.save_model(\n",
    "        keras_model=model,\n",
    "        path=\"mnist-keras-model\",\n",
    "        conda_env = \"conda.yaml\"\n",
    "    )"
   ]
  },
  {
   "cell_type": "code",
   "execution_count": null,
   "id": "worldwide-restriction",
   "metadata": {},
   "outputs": [],
   "source": []
  }
 ],
 "metadata": {
  "kernelspec": {
   "display_name": "sl_tf",
   "language": "python",
   "name": "conda-env-sl_tf-py"
  },
  "language_info": {
   "codemirror_mode": {
    "name": "ipython",
    "version": 3
   },
   "file_extension": ".py",
   "mimetype": "text/x-python",
   "name": "python",
   "nbconvert_exporter": "python",
   "pygments_lexer": "ipython3",
   "version": "3.9.2"
  }
 },
 "nbformat": 4,
 "nbformat_minor": 5
}
